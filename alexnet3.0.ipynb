{
  "nbformat": 4,
  "nbformat_minor": 0,
  "metadata": {
    "colab": {
      "provenance": [],
      "gpuType": "T4",
      "include_colab_link": true
    },
    "kernelspec": {
      "name": "python3",
      "display_name": "Python 3"
    },
    "language_info": {
      "name": "python"
    },
    "accelerator": "GPU"
  },
  "cells": [
    {
      "cell_type": "markdown",
      "metadata": {
        "id": "view-in-github",
        "colab_type": "text"
      },
      "source": [
        "<a href=\"https://colab.research.google.com/github/JuniorHZ19/ML/blob/main/alexnet3.0.ipynb\" target=\"_parent\"><img src=\"https://colab.research.google.com/assets/colab-badge.svg\" alt=\"Open In Colab\"/></a>"
      ]
    },
    {
      "cell_type": "code",
      "execution_count": 1,
      "metadata": {
        "id": "nEH5XojTlDKd",
        "outputId": "918431ad-185f-4e16-bca4-7218eaea0590",
        "colab": {
          "base_uri": "https://localhost:8080/"
        }
      },
      "outputs": [
        {
          "output_type": "stream",
          "name": "stdout",
          "text": [
            "Requirement already satisfied: torch in /usr/local/lib/python3.10/dist-packages (2.1.0+cu121)\n",
            "Requirement already satisfied: torchvision in /usr/local/lib/python3.10/dist-packages (0.16.0+cu121)\n",
            "Requirement already satisfied: torchaudio in /usr/local/lib/python3.10/dist-packages (2.1.0+cu121)\n",
            "Requirement already satisfied: filelock in /usr/local/lib/python3.10/dist-packages (from torch) (3.13.1)\n",
            "Requirement already satisfied: typing-extensions in /usr/local/lib/python3.10/dist-packages (from torch) (4.5.0)\n",
            "Requirement already satisfied: sympy in /usr/local/lib/python3.10/dist-packages (from torch) (1.12)\n",
            "Requirement already satisfied: networkx in /usr/local/lib/python3.10/dist-packages (from torch) (3.2.1)\n",
            "Requirement already satisfied: jinja2 in /usr/local/lib/python3.10/dist-packages (from torch) (3.1.2)\n",
            "Requirement already satisfied: fsspec in /usr/local/lib/python3.10/dist-packages (from torch) (2023.6.0)\n",
            "Requirement already satisfied: triton==2.1.0 in /usr/local/lib/python3.10/dist-packages (from torch) (2.1.0)\n",
            "Requirement already satisfied: numpy in /usr/local/lib/python3.10/dist-packages (from torchvision) (1.23.5)\n",
            "Requirement already satisfied: requests in /usr/local/lib/python3.10/dist-packages (from torchvision) (2.31.0)\n",
            "Requirement already satisfied: pillow!=8.3.*,>=5.3.0 in /usr/local/lib/python3.10/dist-packages (from torchvision) (9.4.0)\n",
            "Requirement already satisfied: MarkupSafe>=2.0 in /usr/local/lib/python3.10/dist-packages (from jinja2->torch) (2.1.3)\n",
            "Requirement already satisfied: charset-normalizer<4,>=2 in /usr/local/lib/python3.10/dist-packages (from requests->torchvision) (3.3.2)\n",
            "Requirement already satisfied: idna<4,>=2.5 in /usr/local/lib/python3.10/dist-packages (from requests->torchvision) (3.6)\n",
            "Requirement already satisfied: urllib3<3,>=1.21.1 in /usr/local/lib/python3.10/dist-packages (from requests->torchvision) (2.0.7)\n",
            "Requirement already satisfied: certifi>=2017.4.17 in /usr/local/lib/python3.10/dist-packages (from requests->torchvision) (2023.11.17)\n",
            "Requirement already satisfied: mpmath>=0.19 in /usr/local/lib/python3.10/dist-packages (from sympy->torch) (1.3.0)\n"
          ]
        }
      ],
      "source": [
        "#@markdown # *0) ** Instalando libreria(OBLIGATORIO)\n",
        "\n",
        "!pip install torch torchvision torchaudio"
      ]
    },
    {
      "cell_type": "code",
      "source": [
        "#@markdown # *1) ** Usar el dataset CIFAR 10\n",
        "\n",
        "\n",
        "import torch\n",
        "from torchvision import datasets, transforms\n",
        "import matplotlib.pyplot as plt\n",
        "import numpy as np\n",
        "\n",
        "# Definir transformaciones para normalizar las imágenes\n",
        "transform = transforms.Compose([transforms.ToTensor(),\n",
        "                                transforms.Resize((227,227)),\n",
        "                                transforms.Normalize((0.5, 0.5, 0.5), (0.5, 0.5, 0.5))])\n",
        "\n",
        "\n",
        "# Descargar el conjunto de datos CIFAR-10\n",
        "\n",
        "train_dataset = datasets.CIFAR10(root='./data', train=True, download=True, transform=transform)\n",
        "test_dataset = datasets.CIFAR10(root='./data', train=False, download=True, transform=transform)\n",
        "\n",
        "# Crear cargadores de datos para facilitar el acceso a lotes de datos\n",
        "\n",
        "train_loader = torch.utils.data.DataLoader(dataset=train_dataset, batch_size=200, shuffle=True)\n",
        "\n",
        "test_loader = torch.utils.data.DataLoader(dataset=test_dataset, batch_size=200, shuffle=False)\n",
        "\n",
        "\n"
      ],
      "metadata": {
        "id": "2jQ67LCbKprh",
        "outputId": "0f50126c-b58d-4673-9f2a-c653307dd43f",
        "colab": {
          "base_uri": "https://localhost:8080/"
        }
      },
      "execution_count": 8,
      "outputs": [
        {
          "output_type": "stream",
          "name": "stdout",
          "text": [
            "Files already downloaded and verified\n",
            "Files already downloaded and verified\n"
          ]
        }
      ]
    },
    {
      "cell_type": "code",
      "source": [],
      "metadata": {
        "id": "cwCOc_umhzyR",
        "outputId": "f3504d49-c2f5-4a27-8e0b-956bc093fc70",
        "colab": {
          "base_uri": "https://localhost:8080/"
        }
      },
      "execution_count": null,
      "outputs": [
        {
          "output_type": "stream",
          "name": "stdout",
          "text": [
            "<torch.utils.data.dataloader.DataLoader object at 0x799b10514b50>\n"
          ]
        }
      ]
    },
    {
      "cell_type": "code",
      "source": [
        "import torch.nn as nn\n",
        "import torch.nn.functional as F\n",
        "\n",
        "\n",
        "\n",
        "class AlexNet(nn.Module):\n",
        "\n",
        "   def __init__(self):\n",
        "    super(AlexNet,self).__init__()\n",
        "\n",
        "    self.conv1=nn.Conv2d(3,96,kernel_size=11,stride=4)\n",
        "    self.maxpool1=nn.MaxPool2d(kernel_size=3,stride=2)\n",
        "\n",
        "    self.conv2=nn.Conv2d(96,256,kernel_size=5,stride=1,padding=2)\n",
        "    self.maxpool2=nn.MaxPool2d(kernel_size=3,stride=2)\n",
        "\n",
        "    self.conv3=nn.Conv2d(256,384,kernel_size=3,stride=1,padding=2)\n",
        "\n",
        "    self.conv4=nn.Conv2d(384,384,kernel_size=3,stride=1,padding=2)\n",
        "\n",
        "    self.conv5=nn.Conv2d(384,256,kernel_size=3,stride=1)\n",
        "    self.maxpool3=nn.MaxPool2d(kernel_size=3,stride=2)\n",
        "\n",
        "    self.flatten = nn.Flatten()\n",
        "    self.fc1=nn.Linear(7*7*256,4096)\n",
        "    self.fc2=nn.Linear(4096,4096)\n",
        "    self.salida=nn.Linear(4096,10)\n",
        "\n",
        "\n",
        "   def forward(self,x):\n",
        "\n",
        "     x=self.conv1(x)\n",
        "     x=F.relu(x)\n",
        "     x=self.maxpool1(x)\n",
        "\n",
        "     x=self.conv2(x)\n",
        "     x=F.relu(x)\n",
        "     x=self.maxpool2(x)\n",
        "\n",
        "     x=self.conv3(x)\n",
        "     x=F.relu(x)\n",
        "\n",
        "     x=self.conv4(x)\n",
        "     x=F.relu(x)\n",
        "\n",
        "\n",
        "     x=self.conv5(x)\n",
        "     x=F.relu(x)\n",
        "     x=self.maxpool3(x)\n",
        "\n",
        "\n",
        "\n",
        "     x=self.flatten(x)\n",
        "\n",
        "\n",
        "     x=self.fc1(x)\n",
        "     x=F.relu(x)\n",
        "\n",
        "     x=self.fc2(x)\n",
        "     x=F.relu(x)\n",
        "     out=self.salida(x)\n",
        "\n",
        "     return out\n"
      ],
      "metadata": {
        "id": "pPePfzy31mvx"
      },
      "execution_count": 10,
      "outputs": []
    },
    {
      "cell_type": "code",
      "source": [
        "\n",
        "\n",
        "\n",
        "import torch\n",
        "import torch.optim as optim\n",
        "\n",
        "if torch.cuda.is_available():\n",
        "    print(\"CUDA está disponible.\")\n",
        "    device = torch.device(\"cuda\")\n",
        "else:\n",
        "    print(\"CUDA no está disponible. Se utilizará la CPU.\")\n",
        "    device = torch.device(\"cpu\")\n",
        "\n",
        "\n",
        "#funcion clasificador:\n",
        "def clasificador(y_pred_test):\n",
        " max_values_tensor=torch.empty((0,),dtype=torch.float32,device=\"cuda\")\n",
        "\n",
        " for tensor in y_pred_test:\n",
        "\n",
        "   max_values,max_indices=torch.max(tensor,dim=0)\n",
        "   max_values_tensor=torch.cat((max_values_tensor,max_indices.unsqueeze(0)))\n",
        "\n",
        " return max_values_tensor\n",
        "\n",
        "#funcion acutity:\n",
        "def accurity(y_test,y_real):\n",
        "   correctos=0\n",
        "   for predicho, real in zip(y_test, y_real):\n",
        "    if predicho==real:\n",
        "     correctos+=1\n",
        "   return correctos/len(y_test)\n",
        "\n",
        "\n",
        "def CCNTRAIN(modelo,optimisador,epocas,criterio,data_loader_train,data_loader_test):\n",
        "\n",
        " for epoch in  range(epocas):\n",
        "  total_train_loss = 0.0\n",
        "  num_train_batches = len(data_loader_train)\n",
        "  modelo.train()\n",
        "\n",
        "  for x,y in (data_loader_train):\n",
        "   x,y=x.to(device),y.to(device)\n",
        "\n",
        "   y_predict=modelo(x)\n",
        "\n",
        "   loss=criterio(y_predict,y)\n",
        "\n",
        "   optimisador.zero_grad()\n",
        "\n",
        "   loss.backward()\n",
        "\n",
        "   optimisador.step()\n",
        "\n",
        "   optimisador.zero_grad()\n",
        "\n",
        "   total_train_loss+=loss.item()\n",
        "\n",
        "  modelo.eval()\n",
        "\n",
        "  with torch.no_grad():\n",
        "   total_test_accuracy = 0.0\n",
        "   num_test_batches = len(data_loader_test)\n",
        "\n",
        "   for x_test,y_test in (data_loader_test):\n",
        "     x_test,y_test=x_test.to(device),y_test.to(device)\n",
        "     y_predict_test=modelo(x_test)\n",
        "     y_predic_test_clasificado=clasificador(y_predict_test)\n",
        "     Precision=accurity(y_test,y_predic_test_clasificado)\n",
        "     total_test_accuracy += Precision\n",
        "\n",
        "  avg_test_accuracy = total_test_accuracy / num_test_batches\n",
        "  avg_train_loss=total_train_loss/num_train_batches\n",
        "  print(f'Epoca[{epoch+1}], Perdida: {avg_train_loss:.4f},Accuryty:{avg_test_accuracy:.4f}')\n",
        "\n",
        "\n",
        "#------------------------------------------------------------------------------------------\n",
        "\n",
        "AlexnetRed=AlexNet()\n",
        "\n",
        "# Cargar los pesos previamente guardados\n",
        "\n",
        "AlexnetRed.load_state_dict(torch.load('/content/alexnet.pt')) #solo para reentrenar\n",
        "\n",
        "AlexnetRed=AlexnetRed.to(device)\n",
        "\n",
        "criterio=nn.CrossEntropyLoss()\n",
        "\n",
        "optimizer=optim.Adam(AlexnetRed.parameters(),lr=0.00001)\n",
        "\n",
        "epochs=12\n",
        "\n",
        "\n",
        "CCNTRAIN(AlexnetRed,optimizer,epochs,criterio,train_loader,test_loader)"
      ],
      "metadata": {
        "id": "eb2AfYxQchgT",
        "outputId": "eef255e3-2a78-4561-f0ed-dc5096e3b6f2",
        "colab": {
          "base_uri": "https://localhost:8080/"
        }
      },
      "execution_count": 13,
      "outputs": [
        {
          "output_type": "stream",
          "name": "stdout",
          "text": [
            "CUDA está disponible.\n",
            "Epoca[1], Perdida: 0.0077,Accuryty:0.8085\n",
            "Epoca[2], Perdida: 0.0011,Accuryty:0.8093\n",
            "Epoca[3], Perdida: 0.0005,Accuryty:0.8090\n",
            "Epoca[4], Perdida: 0.0002,Accuryty:0.8081\n",
            "Epoca[5], Perdida: 0.0002,Accuryty:0.8081\n",
            "Epoca[6], Perdida: 0.0001,Accuryty:0.8087\n",
            "Epoca[7], Perdida: 0.0001,Accuryty:0.8096\n",
            "Epoca[8], Perdida: 0.0001,Accuryty:0.8086\n",
            "Epoca[9], Perdida: 0.0000,Accuryty:0.8095\n",
            "Epoca[10], Perdida: 0.0000,Accuryty:0.8092\n",
            "Epoca[11], Perdida: 0.0000,Accuryty:0.8092\n",
            "Epoca[12], Perdida: 0.0000,Accuryty:0.8092\n"
          ]
        }
      ]
    },
    {
      "cell_type": "code",
      "source": [
        "torch.save(AlexnetRed.state_dict(), 'alexnet.pt')"
      ],
      "metadata": {
        "id": "AgY80-fxN8fL"
      },
      "execution_count": 14,
      "outputs": []
    },
    {
      "cell_type": "code",
      "source": [
        "\n",
        "\n",
        "y_pred_multiclases = torch.tensor([[0.1, 1.8, 0.8, 0.4, 2],\n",
        "                                   [0.5, 2, 3.5, 5, 2.1]])\n",
        "\n",
        "def clasificador(y_pred_test):\n",
        "\n",
        "   max_values_tensor = torch.empty((0,), dtype=torch.float32)\n",
        "\n",
        "   for tensor in y_pred_test:\n",
        "\n",
        "     max_values, max_indices  = torch.max(tensor, dim=0)\n",
        "\n",
        "     max_values_tensor = torch.cat((max_values_tensor, max_indices.unsqueeze(0)))\n",
        "\n",
        "   return max_values_tensor\n",
        "\n",
        "print(clasificador(y_pred_multiclases))\n"
      ],
      "metadata": {
        "id": "7LqpXE2_9vpy",
        "outputId": "c10e4aa3-a539-4e8d-df5a-8dfd2f076f3b",
        "colab": {
          "base_uri": "https://localhost:8080/"
        }
      },
      "execution_count": null,
      "outputs": [
        {
          "output_type": "stream",
          "name": "stdout",
          "text": [
            "tensor([4., 3.])\n"
          ]
        }
      ]
    }
  ]
}