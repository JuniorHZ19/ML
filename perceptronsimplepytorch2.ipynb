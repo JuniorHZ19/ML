{
  "nbformat": 4,
  "nbformat_minor": 0,
  "metadata": {
    "colab": {
      "provenance": [],
      "authorship_tag": "ABX9TyNlqH/nhW3B2fyOSWTbZ8T9",
      "include_colab_link": true
    },
    "kernelspec": {
      "name": "python3",
      "display_name": "Python 3"
    },
    "language_info": {
      "name": "python"
    }
  },
  "cells": [
    {
      "cell_type": "markdown",
      "metadata": {
        "id": "view-in-github",
        "colab_type": "text"
      },
      "source": [
        "<a href=\"https://colab.research.google.com/github/JuniorHZ19/ML/blob/main/perceptronsimplepytorch2.ipynb\" target=\"_parent\"><img src=\"https://colab.research.google.com/assets/colab-badge.svg\" alt=\"Open In Colab\"/></a>"
      ]
    },
    {
      "cell_type": "code",
      "execution_count": null,
      "metadata": {
        "id": "nEH5XojTlDKd"
      },
      "outputs": [],
      "source": [
        "!pip install torch torchvision torchaudio"
      ]
    },
    {
      "cell_type": "code",
      "source": [
        "import torch\n",
        "import numpy as np\n",
        "\n",
        "\n",
        "arraglo_numpy_float64=np.array([[1,2,3,4],\n",
        "                                [5,3,8,7],\n",
        "                                [7,2,3,4]],dtype=np.float64)\n",
        "\n",
        "\n",
        "tensor_trasnformado=torch.from_numpy(arraglo_numpy_float64)\n",
        "\n",
        "tensor_trasnformado"
      ],
      "metadata": {
        "colab": {
          "base_uri": "https://localhost:8080/"
        },
        "id": "BEj62uUvlFQW",
        "outputId": "642bb8db-67da-4d7f-e459-1d781d9eb1a5"
      },
      "execution_count": 2,
      "outputs": [
        {
          "output_type": "execute_result",
          "data": {
            "text/plain": [
              "tensor([[1., 2., 3., 4.],\n",
              "        [5., 3., 8., 7.],\n",
              "        [7., 2., 3., 4.]], dtype=torch.float64)"
            ]
          },
          "metadata": {},
          "execution_count": 2
        }
      ]
    },
    {
      "cell_type": "code",
      "source": [
        "import torch\n",
        "from torch.utils.data import Dataset\n",
        "import pandas as pd\n",
        "import sklearn\n",
        "from sklearn.preprocessing import StandardScaler\n",
        "\n",
        "\n",
        "\n",
        "class MiDataSet(Dataset):\n",
        "\n",
        "  def __init__(self,csv_file):\n",
        "\n",
        "     data=pd.read_csv(csv_file)\n",
        "\n",
        "     self.x,self.y= self.limpiezaDatos(data)\n",
        "\n",
        "     self.samples=self.y.shape[0]\n",
        "\n",
        "\n",
        "  def __getitem__(self,id):\n",
        "\n",
        "   return self.x[id],self.y[id]\n",
        "\n",
        "\n",
        "  def __len__(self):\n",
        "   return self.samples\n",
        "\n",
        "\n",
        "  def limpiezaDatos(self,data):\n",
        "\n",
        "    data=data.dropna(how=\"all\")\n",
        "\n",
        "    data=data.drop_duplicates()\n",
        "\n",
        "    data=data.drop(columns=[\"name\",\"ticket\",\"cabin\",\"boat\",\"body\",\"home.dest\"])\n",
        "\n",
        "    data[[\"age\",\"fare\"]]=data[[\"age\",\"fare\"]].fillna(data[[\"age\",\"fare\"]].mean())\n",
        "\n",
        "    data[\"embarked\"]=data[\"embarked\"].fillna(\"S\")\n",
        "\n",
        "    data[\"age\"]=data[\"age\"].astype(int)\n",
        "\n",
        "    data=pd.get_dummies (data,columns=[\"sex\",\"embarked\"],prefix=[\"sex\",\"embarked\"])\n",
        "\n",
        "    variables_x=data.drop(columns=[\"survived\"])\n",
        "\n",
        "    print(variables_x.head())\n",
        "\n",
        "    print(data[\"survived\"].head())\n",
        "    self.scaler=StandardScaler()\n",
        "\n",
        "    variables_x_esclados=self.scaler.fit_transform(variables_x)\n",
        "\n",
        "    variable_y=data[\"survived\"].values\n",
        "\n",
        "\n",
        "    datos_x=torch.from_numpy(variables_x_esclados).float()\n",
        "\n",
        "    datos_y=torch.from_numpy(variable_y).float()\n",
        "\n",
        "\n",
        "\n",
        "    return datos_x,  datos_y\n",
        "\n",
        "\n",
        "\n",
        "\n",
        "\n"
      ],
      "metadata": {
        "id": "S7i_BABFA3pQ"
      },
      "execution_count": 3,
      "outputs": []
    },
    {
      "cell_type": "code",
      "source": [
        "import sklearn\n",
        "\n",
        "from sklearn.model_selection import train_test_split\n",
        "\n",
        "mis_datos=MiDataSet(\"/content/titanic.csv\")\n",
        "\n",
        "\n",
        "\n",
        "X_entrenamiento, X_prueba, y_entrenamiento, y_prueba = train_test_split(mis_datos.x, mis_datos.y, test_size=0.2, random_state=0)\n",
        "\n",
        "print(X_entrenamiento.shape)\n",
        "\n",
        "print(X_prueba.shape)\n",
        "\n",
        "print(y_entrenamiento.shape)\n",
        "\n",
        "print(y_prueba.shape)\n",
        "\n",
        "\n"
      ],
      "metadata": {
        "id": "zOqxrfSRJivq"
      },
      "execution_count": null,
      "outputs": []
    },
    {
      "cell_type": "code",
      "source": [
        "\n",
        "\n",
        "from torch.utils.data import DataLoader, TensorDataset\n",
        "\n",
        "\n",
        "conjunto_entrenamiento = TensorDataset(X_entrenamiento, y_entrenamiento)\n",
        "\n",
        "conjunto_prueba = TensorDataset(X_prueba, y_prueba)\n",
        "\n",
        "\n",
        "\n",
        "data_por_lote_entrenamiento=DataLoader(conjunto_entrenamiento,batch_size=100,shuffle=True)\n",
        "\n",
        "data_por_por_lote_test=DataLoader(conjunto_prueba,batch_size=100,shuffle=True)\n",
        "\n",
        "\n",
        "\n",
        "datos_features_train,datos_label_train=next(iter(data_por_lote_entrenamiento))\n",
        "\n",
        "datos_features_test,datos_label_test=next(iter(data_por_por_lote_test))\n",
        "\n",
        "\n",
        "print(datos_features_test.shape)\n",
        "\n",
        "\n"
      ],
      "metadata": {
        "id": "2jQ67LCbKprh"
      },
      "execution_count": null,
      "outputs": []
    },
    {
      "cell_type": "code",
      "source": [
        "import torch.nn as nn\n",
        "\n",
        "class Perceptron(nn.Module):\n",
        "\n",
        " def __init__(self,input_size):\n",
        "  super(Perceptron,self).__init__()\n",
        "\n",
        "  self.capalineal=nn.Linear(input_size,1)\n",
        "\n",
        " def forward(self,x):\n",
        "    salidaNeurona=torch.sigmoid(self.capalineal(x))\n",
        "    return salidaNeurona\n",
        "\n",
        "\n",
        "\n",
        "\n",
        "\n"
      ],
      "metadata": {
        "id": "Azbq0IZmapFn"
      },
      "execution_count": 5,
      "outputs": []
    },
    {
      "cell_type": "code",
      "source": [
        "import torch.optim as optim\n",
        "from sklearn.metrics import accuracy_score\n",
        "\n",
        "input_size=X_entrenamiento.shape[1]\n",
        "\n",
        "PerceptronSimple=Perceptron(input_size)\n",
        "\n",
        "criterio=nn.BCELoss()\n",
        "\n",
        "optimizer=optim.SGD(PerceptronSimple.parameters(),lr=0.001)\n",
        "\n",
        "epochs=19000\n",
        "\n",
        "#funcion clasificador:\n",
        "def clasificador(y_pred_test):\n",
        "\n",
        "  umbral = 0.7\n",
        "  y_pred_test_binario = (y_pred_test >= umbral).to(torch.float32)\n",
        "\n",
        "  return y_pred_test_binario\n",
        "\n",
        "#funcion acutity:\n",
        "def accurity(y_test,y_real):\n",
        "   correctos=0\n",
        "   for predicho, real in zip(y_test, y_real):\n",
        "    if predicho==real:\n",
        "     correctos+=1\n",
        "   return correctos/len(y_test)\n",
        "\n",
        "\n",
        "for epoch in range(epochs):\n",
        "\n",
        "  y_predict=PerceptronSimple(X_entrenamiento)\n",
        "\n",
        "  loss=criterio(y_predict,y_entrenamiento.view(-1,1))\n",
        "\n",
        "  loss.backward()\n",
        "\n",
        "  optimizer.step()\n",
        "\n",
        "\n",
        "  optimizer.zero_grad()\n",
        "\n",
        "  with torch.no_grad():\n",
        "   y_predict_test=PerceptronSimple(X_prueba)\n",
        "   y_predic_test_clasificado=clasificador(y_predict_test)\n",
        "\n",
        "\n",
        "\n",
        "   Precision=accurity(y_prueba,y_predic_test_clasificado)\n",
        "\n",
        "\n",
        "\n",
        "  print(f'Epoca[{epoch+1}],Perdida: {loss.item():.4f} ,Accuracy: {Precision:.4f}')\n",
        "\n",
        "\n",
        "#nuevo datos:\n",
        "\n",
        "def escalarNuevaData(data):\n",
        "\n",
        "    scaler=StandardScaler()\n",
        "\n",
        "    datos_escalados=scaler.fit_transform(data)\n",
        "\n",
        "    datos_x_tensor=torch.from_numpy(datos_escalados).float()\n",
        "\n",
        "    return datos_x_tensor\n",
        "\n",
        "nuevo_x=escalarNuevaData([[1,29,0,0,211,1,0,0,0,1]])\n",
        "\n",
        "y_predict=PerceptronSimple(nuevo_x)\n",
        "\n",
        "print(clasificador(y_predict))"
      ],
      "metadata": {
        "id": "eb2AfYxQchgT"
      },
      "execution_count": null,
      "outputs": []
    },
    {
      "cell_type": "code",
      "source": [
        "\n",
        "\n",
        "y_pred_multiclases = torch.tensor([[0.1, 1.8, 0.8, 0.4, 2],\n",
        "                                   [0.5, 2, 3.5, 5, 2.1]])\n",
        "\n",
        "def clasificador(y_pred_test):\n",
        "\n",
        "   max_values_tensor = torch.empty((0,), dtype=torch.float32)\n",
        "\n",
        "   for tensor in y_pred_test:\n",
        "\n",
        "     max_values, max_indices  = torch.max(tensor, dim=0)\n",
        "\n",
        "     max_values_tensor = torch.cat((max_values_tensor, max_indices.unsqueeze(0)))\n",
        "\n",
        "   return max_values_tensor\n",
        "\n",
        "print(clasificador(y_pred_multiclases))\n"
      ],
      "metadata": {
        "id": "7LqpXE2_9vpy",
        "outputId": "c10e4aa3-a539-4e8d-df5a-8dfd2f076f3b",
        "colab": {
          "base_uri": "https://localhost:8080/"
        }
      },
      "execution_count": 11,
      "outputs": [
        {
          "output_type": "stream",
          "name": "stdout",
          "text": [
            "tensor([4., 3.])\n"
          ]
        }
      ]
    }
  ]
}